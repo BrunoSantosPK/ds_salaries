{
 "cells": [
  {
   "cell_type": "code",
   "execution_count": 1,
   "metadata": {},
   "outputs": [
    {
     "data": {
      "text/plain": [
       "True"
      ]
     },
     "execution_count": 1,
     "metadata": {},
     "output_type": "execute_result"
    }
   ],
   "source": [
    "import os\n",
    "import pandas as pd\n",
    "from dotenv import load_dotenv\n",
    "from sqlalchemy.engine import Engine\n",
    "from sqlalchemy import create_engine\n",
    "\n",
    "base_path = \"/media/bruno/Arquivos/Desenvolvimento/DataScienceSalaries\"\n",
    "load_dotenv(f\"{base_path}/config/.env\")"
   ]
  },
  {
   "cell_type": "code",
   "execution_count": 2,
   "metadata": {},
   "outputs": [],
   "source": [
    "def get_engine() -> Engine:\n",
    "    user = os.getenv(\"DB_USER\")\n",
    "    pw = os.getenv(\"DB_PASS\")\n",
    "    db = os.getenv(\"DB_NAME\")\n",
    "    host = os.getenv(\"DB_HOST\")\n",
    "    port = os.getenv(\"DB_PORT\")\n",
    "    return create_engine(f\"mysql+pymysql://{user}:{pw}@{host}:{port}/{db}\")"
   ]
  },
  {
   "cell_type": "code",
   "execution_count": 12,
   "metadata": {},
   "outputs": [
    {
     "name": "stdout",
     "output_type": "stream",
     "text": [
      "Index(['id', 'work_year', 'experience_level', 'employment_type', 'job_title',\n",
      "       'salary_usd', 'employee_residence', 'remote_ratio', 'company_location',\n",
      "       'company_size'],\n",
      "      dtype='object')\n",
      "DISTRIBUIÇÃO DE CARGOS AVALIADOS\n",
      "Data Scientist                                     143 (23.56%)\n",
      "Machine Learning Engineer                          41 (6.75%)\n",
      "Data Analyst                                       97 (15.98%)\n",
      "Data Engineer                                      132 (21.75%)\n",
      "Research Scientist                                 16 (2.64%)\n",
      "Data Science Manager                               12 (1.98%)\n",
      "Data Architect                                     11 (1.81%)\n"
     ]
    }
   ],
   "source": [
    "def description() -> None:\n",
    "    engine = get_engine()\n",
    "    with engine.connect() as con:\n",
    "        dataset = pd.read_sql(\"select * from kaggle.ds_salaries\", con)\n",
    "        print(dataset.columns)\n",
    "\n",
    "        print(\"DISTRIBUIÇÃO DE CARGOS AVALIADOS\")\n",
    "        for job in dataset[\"job_title\"].unique():\n",
    "            total = list(dataset[\"job_title\"].values).count(job)\n",
    "            if total < 10:\n",
    "                continue\n",
    "            print(f\"{job:{50}} {total} ({round(total * 100 / len(dataset), 2)}%)\")\n",
    "\n",
    "\n",
    "description()"
   ]
  }
 ],
 "metadata": {
  "kernelspec": {
   "display_name": "Python 3.10.4 ('.venv': venv)",
   "language": "python",
   "name": "python3"
  },
  "language_info": {
   "codemirror_mode": {
    "name": "ipython",
    "version": 3
   },
   "file_extension": ".py",
   "mimetype": "text/x-python",
   "name": "python",
   "nbconvert_exporter": "python",
   "pygments_lexer": "ipython3",
   "version": "3.10.4"
  },
  "orig_nbformat": 4,
  "vscode": {
   "interpreter": {
    "hash": "7977263e1a6b7bd4c7e86b0bf01f7429d7d83a6df0418e1353080e4eb61c735a"
   }
  }
 },
 "nbformat": 4,
 "nbformat_minor": 2
}
